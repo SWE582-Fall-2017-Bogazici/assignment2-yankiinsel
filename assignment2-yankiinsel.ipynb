{
 "cells": [
  {
   "cell_type": "code",
   "execution_count": 242,
   "metadata": {},
   "outputs": [
    {
     "name": "stdout",
     "output_type": "stream",
     "text": [
      "251.913914932\n",
      "9.63806633321\n",
      "9.03557858208\n",
      "8.76137616857\n",
      "1.38998330404\n",
      "1.2529833339\n",
      "1.25169628982\n",
      "1.25039124363\n",
      "1.24967859136\n",
      "1.24967796544\n",
      "1.24902275504\n"
     ]
    }
   ],
   "source": [
    "%matplotlib inline\n",
    "import matplotlib.pylab as plt\n",
    "import time\n",
    "from IPython import display\n",
    "import numpy as np\n",
    "import warnings\n",
    "\n",
    "#y = np.array([7.46, 6.77, 12.74, 7.11, 7.81, 8.84, 6.08, 5.39, 8.15, 6.42, 5.73])\n",
    "y = np.array([8.04, 6.95, 7.58, 8.81, 8.33, 9.96, 7.24, 4.26, 10.84, 4.82, 5.68])\n",
    "#y = np.array([9.14, 8.14, 8.74, 8.77, 9.26, 8.10, 6.13, 3.10, 9.13, 7.26, 4.74])\n",
    "x = np.array([10., 8., 13., 9., 11., 14., 6., 4., 12., 7., 5.])\n",
    "N = len(x)\n",
    "\n",
    "# Design matrix\n",
    "A = np.vstack((np.ones(N), x, x**2, x**3)).T\n",
    "\n",
    "# Learning rate\n",
    "alpha = 10e-10\n",
    "beta = 0.99\n",
    "              \n",
    "# initial parameters\n",
    "w = np.array([2., 1.,0.1, 0.001])\n",
    "p = np.zeros(4)\n",
    "\n",
    "# First Step\n",
    "err = y-A.dot(w)\n",
    "E = np.sum(err**2)/N\n",
    "dE = -2.*A.T.dot(err)/N\n",
    "p = dE + beta*p\n",
    "w = w - alpha*p\n",
    "    \n",
    "prevE = E\n",
    "savedW = w\n",
    "\n",
    "for epoch in range(5001):\n",
    "    err = y-A.dot(w)\n",
    "    E = np.sum(err**2)/N\n",
    "    dE = -2.*A.T.dot(err)/N\n",
    "    p = dE + beta*p\n",
    "    w = w - alpha*p\n",
    "    \n",
    "    if E < prevE:\n",
    "        savedW = w\n",
    "        alpha = alpha*1.05\n",
    "    elif E == prevE:\n",
    "        savedW = w\n",
    "        alpha = alpha*1.5\n",
    "    else:\n",
    "        w = savedW\n",
    "        alpha = alpha*0.5\n",
    "\n",
    "    prevE = E\n",
    "    if epoch%500 == 0:\n",
    "        print(E)\n",
    "    "
   ]
  },
  {
   "cell_type": "code",
   "execution_count": null,
   "metadata": {
    "collapsed": true
   },
   "outputs": [],
   "source": []
  },
  {
   "cell_type": "code",
   "execution_count": null,
   "metadata": {
    "collapsed": true
   },
   "outputs": [],
   "source": []
  },
  {
   "cell_type": "code",
   "execution_count": null,
   "metadata": {
    "collapsed": true
   },
   "outputs": [],
   "source": []
  },
  {
   "cell_type": "code",
   "execution_count": null,
   "metadata": {
    "collapsed": true
   },
   "outputs": [],
   "source": []
  }
 ],
 "metadata": {
  "kernelspec": {
   "display_name": "Python 3",
   "language": "python",
   "name": "python3"
  },
  "language_info": {
   "codemirror_mode": {
    "name": "ipython",
    "version": 3
   },
   "file_extension": ".py",
   "mimetype": "text/x-python",
   "name": "python",
   "nbconvert_exporter": "python",
   "pygments_lexer": "ipython3",
   "version": "3.6.1"
  }
 },
 "nbformat": 4,
 "nbformat_minor": 2
}
