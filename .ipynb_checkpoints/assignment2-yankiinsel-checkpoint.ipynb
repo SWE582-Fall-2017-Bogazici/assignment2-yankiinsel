{
 "cells": [
  {
   "cell_type": "code",
   "execution_count": 1,
   "metadata": {},
   "outputs": [
    {
     "name": "stdout",
     "output_type": "stream",
     "text": [
      "mininum E: 1.24019082756\n",
      "optimal eta: 7.63888888888889e-07\n",
      "beta: 0.99\n"
     ]
    }
   ],
   "source": [
    "%matplotlib inline\n",
    "import matplotlib.pylab as plt\n",
    "\n",
    "import time\n",
    "from IPython import display\n",
    "import numpy as np\n",
    "\n",
    "\n",
    "#y = np.array([7.46, 6.77, 12.74, 7.11, 7.81, 8.84, 6.08, 5.39, 8.15, 6.42, 5.73])\n",
    "y = np.array([8.04, 6.95, 7.58, 8.81, 8.33, 9.96, 7.24, 4.26, 10.84, 4.82, 5.68])\n",
    "#y = np.array([9.14, 8.14, 8.74, 8.77, 9.26, 8.10, 6.13, 3.10, 9.13, 7.26, 4.74])\n",
    "x = np.array([10., 8., 13., 9., 11., 14., 6., 4., 12., 7., 5.])\n",
    "N = len(x)\n",
    "\n",
    "# Design matrix\n",
    "A = np.vstack((np.ones(N), x, x**2, x**3)).T\n",
    "\n",
    "# Learning rate\n",
    "\n",
    "eta = 0.000001\n",
    "beta = 0.99\n",
    "p = 1\n",
    "              \n",
    "# initial parameters\n",
    "w = np.array([2., 1.,0.1, 0.001])\n",
    "\n",
    "f = A.dot(w)\n",
    "\n",
    "\n",
    "minE = np.inf\n",
    "optimalEta = eta\n",
    "\n",
    "for gamma in range(100):\n",
    "    err = y-A.dot(w)\n",
    "    tempE = np.sum(err**2)/N\n",
    "    w2 = w\n",
    "    p2 = p\n",
    "    eta2 = eta\n",
    "    \n",
    "    for epoch in range(1000):\n",
    "        err2 = y-A.dot(w2)\n",
    "        E2 = np.sum(err2**2)/N\n",
    "        dE2 = -2.*A.T.dot(err2)/N\n",
    "        p2 = dE2 + beta*p2\n",
    "        w2 = w2 - eta2*p2\n",
    "        tempE = E2    \n",
    "        \n",
    "    if tempE <= minE:\n",
    "        minE = tempE\n",
    "        optimalEta = eta\n",
    "        eta = eta*1.1\n",
    "    else:\n",
    "        eta = eta/1.2\n",
    "        \n",
    "print(\"mininum E:\",minE)\n",
    "print(\"optimal eta:\",optimalEta)\n",
    "print(\"beta:\",beta)"
   ]
  },
  {
   "cell_type": "code",
   "execution_count": null,
   "metadata": {
    "collapsed": true
   },
   "outputs": [],
   "source": []
  }
 ],
 "metadata": {
  "kernelspec": {
   "display_name": "Python 3",
   "language": "python",
   "name": "python3"
  },
  "language_info": {
   "codemirror_mode": {
    "name": "ipython",
    "version": 3
   },
   "file_extension": ".py",
   "mimetype": "text/x-python",
   "name": "python",
   "nbconvert_exporter": "python",
   "pygments_lexer": "ipython3",
   "version": "3.6.1"
  }
 },
 "nbformat": 4,
 "nbformat_minor": 2
}
